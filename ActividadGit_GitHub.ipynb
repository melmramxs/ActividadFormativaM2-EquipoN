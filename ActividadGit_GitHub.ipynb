{
  "cells": [
    {
      "cell_type": "markdown",
      "metadata": {
        "id": "lO9pYJucCN4Y"
      },
      "source": [
        "# ActividadFormativaM2-EquipoN\n",
        "---"
      ]
    },
    {
      "cell_type": "markdown",
      "metadata": {
        "id": "CFpzUoaTCN4a"
      },
      "source": [
        "**Equipo: 1**\n",
        "- Melanie Astrid Montaño Ramos\n",
        "- Brenda Itzelt Gómez Catzín\n",
        "- Ketzali Ek Reyes Guerrero\n",
        "- Cesar Adrian De La Cruz Moya\n",
        "- José Omar Martínez Espinosa\n"
      ]
    },
    {
      "cell_type": "markdown",
      "metadata": {
        "id": "I3wQdKvcCN4a"
      },
      "source": [
        "Tecnologico de Monterrey"
      ]
    },
    {
      "cell_type": "markdown",
      "metadata": {
        "id": "S3wDK1N3CN4a"
      },
      "source": [
        "Verano 2024"
      ]
    },
    {
      "cell_type": "markdown",
      "metadata": {
        "id": "6ZHjPAjaCQLo"
      },
      "source": [
        "(Gpo 570)"
      ]
    },
    {
      "cell_type": "code",
      "execution_count": null,
      "metadata": {
        "id": "ndzn0GQoGc7w",
        "outputId": "7238ff1c-aa37-4018-feb3-55db2d977fe2"
      },
      "outputs": [
        {
          "name": "stdout",
          "output_type": "stream",
          "text": [
            "Hola equipo\n"
          ]
        }
      ],
      "source": [
        "print(\"Hola equipo\")"
      ]
    },
    {
      "cell_type": "code",
      "source": [
        "lista_equipo = ['itzelt', 'melanie', 'cesar', 'key', 'omar']\n",
        "for i in lista_equipo:\n",
        "    print(i)"
      ],
      "metadata": {
        "colab": {
          "base_uri": "https://localhost:8080/"
        },
        "id": "c3AxIpX7GhNq",
        "outputId": "51d5da3b-81f1-4725-ff2c-e5e549b0bd79"
      },
      "execution_count": 1,
      "outputs": [
        {
          "output_type": "stream",
          "name": "stdout",
          "text": [
            "itzelt\n",
            "melanie\n",
            "cesar\n",
            "key\n",
            "omar\n"
          ]
        }
      ]
    }
  ],
  "metadata": {
    "colab": {
      "provenance": []
    },
    "kernelspec": {
      "display_name": "tecmx",
      "language": "python",
      "name": "python3"
    },
    "language_info": {
      "codemirror_mode": {
        "name": "ipython",
        "version": 3
      },
      "file_extension": ".py",
      "mimetype": "text/x-python",
      "name": "python",
      "nbconvert_exporter": "python",
      "pygments_lexer": "ipython3",
      "version": "3.11.9"
    }
  },
  "nbformat": 4,
  "nbformat_minor": 0
}