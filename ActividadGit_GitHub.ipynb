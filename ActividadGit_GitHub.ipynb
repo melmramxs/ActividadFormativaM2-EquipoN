{
 "cells": [
  {
   "cell_type": "markdown",
   "metadata": {},
   "source": [
    "# ActividadFormativaM2-EquipoN\n",
    "---"
   ]
  },
  {
   "cell_type": "markdown",
   "metadata": {},
   "source": [
    "**Equipo: 1**\n",
    "- Melanie Astrid Montaño Ramos\n",
    "- Brenda Itzel Gómez Catzín \n",
    "- Ketzali Ek Reyes Guerrero\n",
    "- Cesar Adrian De La Cruz Moya\n",
    "- José Omar Martínez Espinosa\n"
   ]
  },
  {
   "cell_type": "markdown",
   "metadata": {},
   "source": [
    "Tecnologico de Monterrey"
   ]
  }, 
 {
   "cell_type": "markdown",
   "metadata": {},
   "source": [
    "Verano 2024"
   ]
  }
 ],
 "metadata": {
  "kernelspec": {
   "display_name": "tecmx",
   "language": "python",
   "name": "python3"
  },
  "language_info": {
   "name": "python",
   "version": "3.12.4"
  }
 },
 "nbformat": 4,
 "nbformat_minor": 2
}
