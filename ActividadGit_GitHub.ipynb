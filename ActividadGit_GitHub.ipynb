{
  "cells": [
    {
      "cell_type": "markdown",
      "metadata": {
        "id": "lO9pYJucCN4Y"
      },
      "source": [
        "# ActividadFormativaM2-EquipoN\n",
        "---"
      ]
    },
    {
      "cell_type": "markdown",
      "metadata": {
        "id": "CFpzUoaTCN4a"
      },
      "source": [
        "**Equipo: 1**\n",
        "- Melanie Astrid Montaño Ramos\n",
        "- Brenda Itzelt Gómez Catzín\n",
        "- Ketzali Ek Reyes Guerrero\n",
        "- Cesar Adrian De La Cruz Moya\n",
        "- José Omar Martínez Espinosa\n"
      ]
    },
    {
      "cell_type": "markdown",
      "metadata": {
        "id": "I3wQdKvcCN4a"
      },
      "source": [
        "Tecnologico de Monterrey"
      ]
    },
    {
      "cell_type": "markdown",
      "metadata": {
        "id": "S3wDK1N3CN4a"
      },
      "source": [
        "Verano 2024"
      ]
    },
    {
      "cell_type": "markdown",
      "metadata": {
        "id": "6ZHjPAjaCQLo"
      },
      "source": [
        "(Gpo 570)"
      ]
    },
    {
      "cell_type": "code",
      "execution_count": 1,
      "metadata": {},
      "outputs": [
        {
          "name": "stdout",
          "output_type": "stream",
          "text": [
            "Hola equipo\n"
          ]
        }
      ],
      "source": [
        "print(\"Hola equipo\")"
      ]
    }
  ],
  "metadata": {
    "colab": {
      "provenance": []
    },
    "kernelspec": {
      "display_name": "tecmx",
      "language": "python",
      "name": "python3"
    },
    "language_info": {
      "codemirror_mode": {
        "name": "ipython",
        "version": 3
      },
      "file_extension": ".py",
      "mimetype": "text/x-python",
      "name": "python",
      "nbconvert_exporter": "python",
      "pygments_lexer": "ipython3",
      "version": "3.11.9"
    }
  },
  "nbformat": 4,
  "nbformat_minor": 0
}
